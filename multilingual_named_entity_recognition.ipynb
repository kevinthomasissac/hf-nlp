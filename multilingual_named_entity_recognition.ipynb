{
  "nbformat": 4,
  "nbformat_minor": 0,
  "metadata": {
    "colab": {
      "provenance": [],
      "authorship_tag": "ABX9TyOj/98YPET1itjUwwuS50/v",
      "include_colab_link": true
    },
    "kernelspec": {
      "name": "python3",
      "display_name": "Python 3"
    },
    "language_info": {
      "name": "python"
    }
  },
  "cells": [
    {
      "cell_type": "markdown",
      "metadata": {
        "id": "view-in-github",
        "colab_type": "text"
      },
      "source": [
        "<a href=\"https://colab.research.google.com/github/kevinthomasissac/hf-nlp/blob/master/multilingual_named_entity_recognition.ipynb\" target=\"_parent\"><img src=\"https://colab.research.google.com/assets/colab-badge.svg\" alt=\"Open In Colab\"/></a>"
      ]
    },
    {
      "cell_type": "markdown",
      "source": [
        "Token classification"
      ],
      "metadata": {
        "id": "cYCRrCqZAsgl"
      }
    },
    {
      "cell_type": "code",
      "execution_count": null,
      "metadata": {
        "id": "ommSyPcvAn5F"
      },
      "outputs": [],
      "source": [
        "import torch\n",
        "from transformers import AutoTokenizer, XLMRobertaForTokenClassification\n",
        "\n",
        "# Load pre-trained tokenizer and model\n",
        "model_ckpt = \"xlm-roberta-base\"  # Change to a fine-tuned checkpoint if available\n",
        "tokenizer = AutoTokenizer.from_pretrained(model_ckpt)\n",
        "model = XLMRobertaForTokenClassification.from_pretrained(model_ckpt, num_labels=5)  # Change num_labels based on task\n",
        "\n",
        "# Sample text for token classification\n",
        "text = \"Hello, my name is John and I live in Germany.\"\n",
        "\n",
        "# Tokenize input\n",
        "tokens = tokenizer(text, return_tensors=\"pt\", truncation=True, padding=True, is_split_into_words=False)\n",
        "\n",
        "# Forward pass (get model predictions)\n",
        "with torch.no_grad():\n",
        "    outputs = model(**tokens)\n",
        "\n",
        "# Extract logits and apply softmax\n",
        "logits = outputs.logits\n",
        "predictions = torch.argmax(logits, dim=-1)\n",
        "\n",
        "# Convert token IDs back to words\n",
        "tokens_decoded = tokenizer.convert_ids_to_tokens(tokens[\"input_ids\"][0])\n",
        "\n",
        "# Print tokens and predicted labels\n",
        "for token, pred in zip(tokens_decoded, predictions[0].tolist()):\n",
        "    print(f\"Token: {token}, Predicted Label: {pred}\")"
      ]
    }
  ]
}